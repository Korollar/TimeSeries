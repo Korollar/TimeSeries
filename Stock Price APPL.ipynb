{
 "cells": [
  {
   "cell_type": "code",
   "execution_count": 1,
   "metadata": {},
   "outputs": [],
   "source": [
    "#Importing required Libraries\n",
    "import pandas as pd\n",
    "import numpy as np\n",
    "import matplotlib.pyplot as plt\n",
    "import seaborn as sns\n",
    "from pandas.plotting import register_matplotlib_converters\n",
    "register_matplotlib_converters()\n",
    "%matplotlib inline"
   ]
  },
  {
   "cell_type": "code",
   "execution_count": 2,
   "metadata": {},
   "outputs": [],
   "source": [
    "dataset= pd.read_csv(\"C:\\\\Data\\\\aapl.csv\")"
   ]
  },
  {
   "cell_type": "code",
   "execution_count": 3,
   "metadata": {},
   "outputs": [
    {
     "data": {
      "text/html": [
       "<div>\n",
       "<style scoped>\n",
       "    .dataframe tbody tr th:only-of-type {\n",
       "        vertical-align: middle;\n",
       "    }\n",
       "\n",
       "    .dataframe tbody tr th {\n",
       "        vertical-align: top;\n",
       "    }\n",
       "\n",
       "    .dataframe thead th {\n",
       "        text-align: right;\n",
       "    }\n",
       "</style>\n",
       "<table border=\"1\" class=\"dataframe\">\n",
       "  <thead>\n",
       "    <tr style=\"text-align: right;\">\n",
       "      <th></th>\n",
       "      <th>Date</th>\n",
       "      <th>Open</th>\n",
       "      <th>High</th>\n",
       "      <th>Low</th>\n",
       "      <th>Close</th>\n",
       "      <th>Adj Close</th>\n",
       "      <th>Volume</th>\n",
       "    </tr>\n",
       "  </thead>\n",
       "  <tbody>\n",
       "    <tr>\n",
       "      <th>2766</th>\n",
       "      <td>9/27/2019</td>\n",
       "      <td>220.539993</td>\n",
       "      <td>220.960007</td>\n",
       "      <td>217.279999</td>\n",
       "      <td>218.820007</td>\n",
       "      <td>218.820007</td>\n",
       "      <td>25352000</td>\n",
       "    </tr>\n",
       "    <tr>\n",
       "      <th>2767</th>\n",
       "      <td>9/30/2019</td>\n",
       "      <td>220.899994</td>\n",
       "      <td>224.580002</td>\n",
       "      <td>220.789993</td>\n",
       "      <td>223.970001</td>\n",
       "      <td>223.970001</td>\n",
       "      <td>25977400</td>\n",
       "    </tr>\n",
       "  </tbody>\n",
       "</table>\n",
       "</div>"
      ],
      "text/plain": [
       "           Date        Open        High         Low       Close   Adj Close  \\\n",
       "2766  9/27/2019  220.539993  220.960007  217.279999  218.820007  218.820007   \n",
       "2767  9/30/2019  220.899994  224.580002  220.789993  223.970001  223.970001   \n",
       "\n",
       "        Volume  \n",
       "2766  25352000  \n",
       "2767  25977400  "
      ]
     },
     "execution_count": 3,
     "metadata": {},
     "output_type": "execute_result"
    }
   ],
   "source": [
    "dataset.tail(2)"
   ]
  },
  {
   "cell_type": "code",
   "execution_count": 4,
   "metadata": {},
   "outputs": [
    {
     "data": {
      "text/html": [
       "<div>\n",
       "<style scoped>\n",
       "    .dataframe tbody tr th:only-of-type {\n",
       "        vertical-align: middle;\n",
       "    }\n",
       "\n",
       "    .dataframe tbody tr th {\n",
       "        vertical-align: top;\n",
       "    }\n",
       "\n",
       "    .dataframe thead th {\n",
       "        text-align: right;\n",
       "    }\n",
       "</style>\n",
       "<table border=\"1\" class=\"dataframe\">\n",
       "  <thead>\n",
       "    <tr style=\"text-align: right;\">\n",
       "      <th></th>\n",
       "      <th>Date</th>\n",
       "      <th>Open</th>\n",
       "      <th>High</th>\n",
       "      <th>Low</th>\n",
       "      <th>Close</th>\n",
       "      <th>Adj Close</th>\n",
       "      <th>Volume</th>\n",
       "      <th>Mean</th>\n",
       "    </tr>\n",
       "  </thead>\n",
       "  <tbody>\n",
       "    <tr>\n",
       "      <th>0</th>\n",
       "      <td>10/1/2008</td>\n",
       "      <td>15.988571</td>\n",
       "      <td>16.051428</td>\n",
       "      <td>15.341429</td>\n",
       "      <td>15.588572</td>\n",
       "      <td>13.604352</td>\n",
       "      <td>324121000</td>\n",
       "      <td>15.696429</td>\n",
       "    </tr>\n",
       "    <tr>\n",
       "      <th>1</th>\n",
       "      <td>10/2/2008</td>\n",
       "      <td>15.430000</td>\n",
       "      <td>15.541429</td>\n",
       "      <td>14.285714</td>\n",
       "      <td>14.300000</td>\n",
       "      <td>12.479802</td>\n",
       "      <td>402341100</td>\n",
       "      <td>14.913572</td>\n",
       "    </tr>\n",
       "  </tbody>\n",
       "</table>\n",
       "</div>"
      ],
      "text/plain": [
       "        Date       Open       High        Low      Close  Adj Close  \\\n",
       "0  10/1/2008  15.988571  16.051428  15.341429  15.588572  13.604352   \n",
       "1  10/2/2008  15.430000  15.541429  14.285714  14.300000  12.479802   \n",
       "\n",
       "      Volume       Mean  \n",
       "0  324121000  15.696429  \n",
       "1  402341100  14.913572  "
      ]
     },
     "execution_count": 4,
     "metadata": {},
     "output_type": "execute_result"
    }
   ],
   "source": [
    "dataset['Mean'] = (dataset['Low'] + dataset['High'])/2\n",
    "dataset.head(2)"
   ]
  },
  {
   "cell_type": "code",
   "execution_count": 5,
   "metadata": {},
   "outputs": [
    {
     "name": "stdout",
     "output_type": "stream",
     "text": [
      "<class 'pandas.core.frame.DataFrame'>\n",
      "RangeIndex: 2768 entries, 0 to 2767\n",
      "Data columns (total 8 columns):\n",
      "Date         2768 non-null object\n",
      "Open         2768 non-null float64\n",
      "High         2768 non-null float64\n",
      "Low          2768 non-null float64\n",
      "Close        2768 non-null float64\n",
      "Adj Close    2768 non-null float64\n",
      "Volume       2768 non-null int64\n",
      "Mean         2768 non-null float64\n",
      "dtypes: float64(6), int64(1), object(1)\n",
      "memory usage: 173.1+ KB\n"
     ]
    }
   ],
   "source": [
    "dataset.info()"
   ]
  },
  {
   "cell_type": "code",
   "execution_count": 6,
   "metadata": {},
   "outputs": [
    {
     "data": {
      "text/html": [
       "<div>\n",
       "<style scoped>\n",
       "    .dataframe tbody tr th:only-of-type {\n",
       "        vertical-align: middle;\n",
       "    }\n",
       "\n",
       "    .dataframe tbody tr th {\n",
       "        vertical-align: top;\n",
       "    }\n",
       "\n",
       "    .dataframe thead th {\n",
       "        text-align: right;\n",
       "    }\n",
       "</style>\n",
       "<table border=\"1\" class=\"dataframe\">\n",
       "  <thead>\n",
       "    <tr style=\"text-align: right;\">\n",
       "      <th></th>\n",
       "      <th>Date</th>\n",
       "      <th>Open</th>\n",
       "      <th>High</th>\n",
       "      <th>Low</th>\n",
       "      <th>Close</th>\n",
       "      <th>Adj Close</th>\n",
       "      <th>Volume</th>\n",
       "      <th>Mean</th>\n",
       "    </tr>\n",
       "  </thead>\n",
       "  <tbody>\n",
       "    <tr>\n",
       "      <th>0</th>\n",
       "      <td>10/1/2008</td>\n",
       "      <td>15.988571</td>\n",
       "      <td>16.051428</td>\n",
       "      <td>15.341429</td>\n",
       "      <td>15.588572</td>\n",
       "      <td>13.604352</td>\n",
       "      <td>324121000</td>\n",
       "      <td>15.696429</td>\n",
       "    </tr>\n",
       "    <tr>\n",
       "      <th>1</th>\n",
       "      <td>10/2/2008</td>\n",
       "      <td>15.430000</td>\n",
       "      <td>15.541429</td>\n",
       "      <td>14.285714</td>\n",
       "      <td>14.300000</td>\n",
       "      <td>12.479802</td>\n",
       "      <td>402341100</td>\n",
       "      <td>14.913572</td>\n",
       "    </tr>\n",
       "  </tbody>\n",
       "</table>\n",
       "</div>"
      ],
      "text/plain": [
       "        Date       Open       High        Low      Close  Adj Close  \\\n",
       "0  10/1/2008  15.988571  16.051428  15.341429  15.588572  13.604352   \n",
       "1  10/2/2008  15.430000  15.541429  14.285714  14.300000  12.479802   \n",
       "\n",
       "      Volume       Mean  \n",
       "0  324121000  15.696429  \n",
       "1  402341100  14.913572  "
      ]
     },
     "execution_count": 6,
     "metadata": {},
     "output_type": "execute_result"
    }
   ],
   "source": [
    "dataset.head(2)"
   ]
  },
  {
   "cell_type": "code",
   "execution_count": 7,
   "metadata": {},
   "outputs": [
    {
     "data": {
      "text/html": [
       "<div>\n",
       "<style scoped>\n",
       "    .dataframe tbody tr th:only-of-type {\n",
       "        vertical-align: middle;\n",
       "    }\n",
       "\n",
       "    .dataframe tbody tr th {\n",
       "        vertical-align: top;\n",
       "    }\n",
       "\n",
       "    .dataframe thead th {\n",
       "        text-align: right;\n",
       "    }\n",
       "</style>\n",
       "<table border=\"1\" class=\"dataframe\">\n",
       "  <thead>\n",
       "    <tr style=\"text-align: right;\">\n",
       "      <th></th>\n",
       "      <th>Date</th>\n",
       "      <th>Open</th>\n",
       "      <th>High</th>\n",
       "      <th>Low</th>\n",
       "      <th>Close</th>\n",
       "      <th>Adj Close</th>\n",
       "      <th>Volume</th>\n",
       "      <th>Mean</th>\n",
       "      <th>Actual</th>\n",
       "    </tr>\n",
       "  </thead>\n",
       "  <tbody>\n",
       "    <tr>\n",
       "      <th>0</th>\n",
       "      <td>10/1/2008</td>\n",
       "      <td>15.988571</td>\n",
       "      <td>16.051428</td>\n",
       "      <td>15.341429</td>\n",
       "      <td>15.588572</td>\n",
       "      <td>13.604352</td>\n",
       "      <td>324121000</td>\n",
       "      <td>15.696429</td>\n",
       "      <td>14.913572</td>\n",
       "    </tr>\n",
       "    <tr>\n",
       "      <th>1</th>\n",
       "      <td>10/2/2008</td>\n",
       "      <td>15.430000</td>\n",
       "      <td>15.541429</td>\n",
       "      <td>14.285714</td>\n",
       "      <td>14.300000</td>\n",
       "      <td>12.479802</td>\n",
       "      <td>402341100</td>\n",
       "      <td>14.913572</td>\n",
       "      <td>14.367857</td>\n",
       "    </tr>\n",
       "    <tr>\n",
       "      <th>2</th>\n",
       "      <td>10/3/2008</td>\n",
       "      <td>14.857142</td>\n",
       "      <td>15.214286</td>\n",
       "      <td>13.521428</td>\n",
       "      <td>13.867143</td>\n",
       "      <td>12.102037</td>\n",
       "      <td>573599600</td>\n",
       "      <td>14.367857</td>\n",
       "      <td>13.308571</td>\n",
       "    </tr>\n",
       "  </tbody>\n",
       "</table>\n",
       "</div>"
      ],
      "text/plain": [
       "        Date       Open       High        Low      Close  Adj Close  \\\n",
       "0  10/1/2008  15.988571  16.051428  15.341429  15.588572  13.604352   \n",
       "1  10/2/2008  15.430000  15.541429  14.285714  14.300000  12.479802   \n",
       "2  10/3/2008  14.857142  15.214286  13.521428  13.867143  12.102037   \n",
       "\n",
       "      Volume       Mean     Actual  \n",
       "0  324121000  15.696429  14.913572  \n",
       "1  402341100  14.913572  14.367857  \n",
       "2  573599600  14.367857  13.308571  "
      ]
     },
     "execution_count": 7,
     "metadata": {},
     "output_type": "execute_result"
    }
   ],
   "source": [
    "# preparing the dataset by shoifting open , close, Low, High  by 1\n",
    "steps=-1\n",
    "dataset_for_prediction= dataset.copy()\n",
    "dataset_for_prediction['Actual']=dataset_for_prediction['Mean'].shift(steps)\n",
    "dataset_for_prediction.head(3)"
   ]
  },
  {
   "cell_type": "code",
   "execution_count": 8,
   "metadata": {},
   "outputs": [],
   "source": [
    "dataset_for_prediction=dataset_for_prediction.dropna()"
   ]
  },
  {
   "cell_type": "code",
   "execution_count": 9,
   "metadata": {},
   "outputs": [
    {
     "data": {
      "text/html": [
       "<div>\n",
       "<style scoped>\n",
       "    .dataframe tbody tr th:only-of-type {\n",
       "        vertical-align: middle;\n",
       "    }\n",
       "\n",
       "    .dataframe tbody tr th {\n",
       "        vertical-align: top;\n",
       "    }\n",
       "\n",
       "    .dataframe thead th {\n",
       "        text-align: right;\n",
       "    }\n",
       "</style>\n",
       "<table border=\"1\" class=\"dataframe\">\n",
       "  <thead>\n",
       "    <tr style=\"text-align: right;\">\n",
       "      <th></th>\n",
       "      <th>Date</th>\n",
       "      <th>Open</th>\n",
       "      <th>High</th>\n",
       "      <th>Low</th>\n",
       "      <th>Close</th>\n",
       "      <th>Adj Close</th>\n",
       "      <th>Volume</th>\n",
       "      <th>Mean</th>\n",
       "      <th>Actual</th>\n",
       "    </tr>\n",
       "  </thead>\n",
       "  <tbody>\n",
       "    <tr>\n",
       "      <th>0</th>\n",
       "      <td>10/1/2008</td>\n",
       "      <td>15.988571</td>\n",
       "      <td>16.051428</td>\n",
       "      <td>15.341429</td>\n",
       "      <td>15.588572</td>\n",
       "      <td>13.604352</td>\n",
       "      <td>324121000</td>\n",
       "      <td>15.696429</td>\n",
       "      <td>14.913572</td>\n",
       "    </tr>\n",
       "    <tr>\n",
       "      <th>1</th>\n",
       "      <td>10/2/2008</td>\n",
       "      <td>15.430000</td>\n",
       "      <td>15.541429</td>\n",
       "      <td>14.285714</td>\n",
       "      <td>14.300000</td>\n",
       "      <td>12.479802</td>\n",
       "      <td>402341100</td>\n",
       "      <td>14.913572</td>\n",
       "      <td>14.367857</td>\n",
       "    </tr>\n",
       "    <tr>\n",
       "      <th>2</th>\n",
       "      <td>10/3/2008</td>\n",
       "      <td>14.857142</td>\n",
       "      <td>15.214286</td>\n",
       "      <td>13.521428</td>\n",
       "      <td>13.867143</td>\n",
       "      <td>12.102037</td>\n",
       "      <td>573599600</td>\n",
       "      <td>14.367857</td>\n",
       "      <td>13.308571</td>\n",
       "    </tr>\n",
       "  </tbody>\n",
       "</table>\n",
       "</div>"
      ],
      "text/plain": [
       "        Date       Open       High        Low      Close  Adj Close  \\\n",
       "0  10/1/2008  15.988571  16.051428  15.341429  15.588572  13.604352   \n",
       "1  10/2/2008  15.430000  15.541429  14.285714  14.300000  12.479802   \n",
       "2  10/3/2008  14.857142  15.214286  13.521428  13.867143  12.102037   \n",
       "\n",
       "      Volume       Mean     Actual  \n",
       "0  324121000  15.696429  14.913572  \n",
       "1  402341100  14.913572  14.367857  \n",
       "2  573599600  14.367857  13.308571  "
      ]
     },
     "execution_count": 9,
     "metadata": {},
     "output_type": "execute_result"
    }
   ],
   "source": [
    "dataset_for_prediction.head(3)"
   ]
  },
  {
   "cell_type": "code",
   "execution_count": 10,
   "metadata": {},
   "outputs": [
    {
     "data": {
      "text/html": [
       "<div>\n",
       "<style scoped>\n",
       "    .dataframe tbody tr th:only-of-type {\n",
       "        vertical-align: middle;\n",
       "    }\n",
       "\n",
       "    .dataframe tbody tr th {\n",
       "        vertical-align: top;\n",
       "    }\n",
       "\n",
       "    .dataframe thead th {\n",
       "        text-align: right;\n",
       "    }\n",
       "</style>\n",
       "<table border=\"1\" class=\"dataframe\">\n",
       "  <thead>\n",
       "    <tr style=\"text-align: right;\">\n",
       "      <th></th>\n",
       "      <th>Date</th>\n",
       "      <th>Open</th>\n",
       "      <th>High</th>\n",
       "      <th>Low</th>\n",
       "      <th>Close</th>\n",
       "      <th>Adj Close</th>\n",
       "      <th>Volume</th>\n",
       "      <th>Mean</th>\n",
       "      <th>Actual</th>\n",
       "    </tr>\n",
       "  </thead>\n",
       "  <tbody>\n",
       "    <tr>\n",
       "      <th>2629</th>\n",
       "      <td>3/14/2019</td>\n",
       "      <td>183.899994</td>\n",
       "      <td>184.100006</td>\n",
       "      <td>182.559998</td>\n",
       "      <td>183.729996</td>\n",
       "      <td>182.332397</td>\n",
       "      <td>23579500</td>\n",
       "      <td>183.330002</td>\n",
       "      <td>185.535004</td>\n",
       "    </tr>\n",
       "    <tr>\n",
       "      <th>2630</th>\n",
       "      <td>3/15/2019</td>\n",
       "      <td>184.850006</td>\n",
       "      <td>187.330002</td>\n",
       "      <td>183.740005</td>\n",
       "      <td>186.119995</td>\n",
       "      <td>184.704224</td>\n",
       "      <td>39042900</td>\n",
       "      <td>185.535004</td>\n",
       "      <td>187.089996</td>\n",
       "    </tr>\n",
       "    <tr>\n",
       "      <th>2631</th>\n",
       "      <td>3/18/2019</td>\n",
       "      <td>185.800003</td>\n",
       "      <td>188.389999</td>\n",
       "      <td>185.789993</td>\n",
       "      <td>188.020004</td>\n",
       "      <td>186.589783</td>\n",
       "      <td>26219800</td>\n",
       "      <td>187.089996</td>\n",
       "      <td>187.455001</td>\n",
       "    </tr>\n",
       "    <tr>\n",
       "      <th>2632</th>\n",
       "      <td>3/19/2019</td>\n",
       "      <td>188.350006</td>\n",
       "      <td>188.990005</td>\n",
       "      <td>185.919998</td>\n",
       "      <td>186.529999</td>\n",
       "      <td>185.111115</td>\n",
       "      <td>31646400</td>\n",
       "      <td>187.455001</td>\n",
       "      <td>187.110001</td>\n",
       "    </tr>\n",
       "    <tr>\n",
       "      <th>2633</th>\n",
       "      <td>3/20/2019</td>\n",
       "      <td>186.229996</td>\n",
       "      <td>189.490005</td>\n",
       "      <td>184.729996</td>\n",
       "      <td>188.160004</td>\n",
       "      <td>186.728714</td>\n",
       "      <td>31035200</td>\n",
       "      <td>187.110001</td>\n",
       "      <td>193.070000</td>\n",
       "    </tr>\n",
       "    <tr>\n",
       "      <th>2634</th>\n",
       "      <td>3/21/2019</td>\n",
       "      <td>190.020004</td>\n",
       "      <td>196.330002</td>\n",
       "      <td>189.809998</td>\n",
       "      <td>195.089996</td>\n",
       "      <td>193.605988</td>\n",
       "      <td>51034200</td>\n",
       "      <td>193.070000</td>\n",
       "      <td>194.235001</td>\n",
       "    </tr>\n",
       "    <tr>\n",
       "      <th>2635</th>\n",
       "      <td>3/22/2019</td>\n",
       "      <td>195.339996</td>\n",
       "      <td>197.690002</td>\n",
       "      <td>190.779999</td>\n",
       "      <td>191.050003</td>\n",
       "      <td>189.596725</td>\n",
       "      <td>42407700</td>\n",
       "      <td>194.235001</td>\n",
       "      <td>189.290001</td>\n",
       "    </tr>\n",
       "    <tr>\n",
       "      <th>2636</th>\n",
       "      <td>3/25/2019</td>\n",
       "      <td>191.509995</td>\n",
       "      <td>191.979996</td>\n",
       "      <td>186.600006</td>\n",
       "      <td>188.740005</td>\n",
       "      <td>187.304291</td>\n",
       "      <td>43845300</td>\n",
       "      <td>189.290001</td>\n",
       "      <td>188.730004</td>\n",
       "    </tr>\n",
       "    <tr>\n",
       "      <th>2637</th>\n",
       "      <td>3/26/2019</td>\n",
       "      <td>191.660004</td>\n",
       "      <td>192.880005</td>\n",
       "      <td>184.580002</td>\n",
       "      <td>186.789993</td>\n",
       "      <td>185.369125</td>\n",
       "      <td>49800500</td>\n",
       "      <td>188.730004</td>\n",
       "      <td>188.154999</td>\n",
       "    </tr>\n",
       "    <tr>\n",
       "      <th>2638</th>\n",
       "      <td>3/27/2019</td>\n",
       "      <td>188.750000</td>\n",
       "      <td>189.759995</td>\n",
       "      <td>186.550003</td>\n",
       "      <td>188.470001</td>\n",
       "      <td>187.036346</td>\n",
       "      <td>29848400</td>\n",
       "      <td>188.154999</td>\n",
       "      <td>188.544999</td>\n",
       "    </tr>\n",
       "    <tr>\n",
       "      <th>2639</th>\n",
       "      <td>3/28/2019</td>\n",
       "      <td>188.949997</td>\n",
       "      <td>189.559998</td>\n",
       "      <td>187.529999</td>\n",
       "      <td>188.720001</td>\n",
       "      <td>187.284439</td>\n",
       "      <td>20780400</td>\n",
       "      <td>188.544999</td>\n",
       "      <td>189.309998</td>\n",
       "    </tr>\n",
       "  </tbody>\n",
       "</table>\n",
       "</div>"
      ],
      "text/plain": [
       "           Date        Open        High         Low       Close   Adj Close  \\\n",
       "2629  3/14/2019  183.899994  184.100006  182.559998  183.729996  182.332397   \n",
       "2630  3/15/2019  184.850006  187.330002  183.740005  186.119995  184.704224   \n",
       "2631  3/18/2019  185.800003  188.389999  185.789993  188.020004  186.589783   \n",
       "2632  3/19/2019  188.350006  188.990005  185.919998  186.529999  185.111115   \n",
       "2633  3/20/2019  186.229996  189.490005  184.729996  188.160004  186.728714   \n",
       "2634  3/21/2019  190.020004  196.330002  189.809998  195.089996  193.605988   \n",
       "2635  3/22/2019  195.339996  197.690002  190.779999  191.050003  189.596725   \n",
       "2636  3/25/2019  191.509995  191.979996  186.600006  188.740005  187.304291   \n",
       "2637  3/26/2019  191.660004  192.880005  184.580002  186.789993  185.369125   \n",
       "2638  3/27/2019  188.750000  189.759995  186.550003  188.470001  187.036346   \n",
       "2639  3/28/2019  188.949997  189.559998  187.529999  188.720001  187.284439   \n",
       "\n",
       "        Volume        Mean      Actual  \n",
       "2629  23579500  183.330002  185.535004  \n",
       "2630  39042900  185.535004  187.089996  \n",
       "2631  26219800  187.089996  187.455001  \n",
       "2632  31646400  187.455001  187.110001  \n",
       "2633  31035200  187.110001  193.070000  \n",
       "2634  51034200  193.070000  194.235001  \n",
       "2635  42407700  194.235001  189.290001  \n",
       "2636  43845300  189.290001  188.730004  \n",
       "2637  49800500  188.730004  188.154999  \n",
       "2638  29848400  188.154999  188.544999  \n",
       "2639  20780400  188.544999  189.309998  "
      ]
     },
     "execution_count": 10,
     "metadata": {},
     "output_type": "execute_result"
    }
   ],
   "source": [
    "dataset_for_prediction[2629:2640]"
   ]
  },
  {
   "cell_type": "code",
   "execution_count": 11,
   "metadata": {},
   "outputs": [],
   "source": [
    "#dataset_for_prediction['Date']=dataset_for_prediction['Date'].asfreq(BDay())"
   ]
  },
  {
   "cell_type": "code",
   "execution_count": 12,
   "metadata": {},
   "outputs": [],
   "source": [
    "#dataset_for_prediction.to_csv('Check data.csv')"
   ]
  },
  {
   "cell_type": "code",
   "execution_count": 13,
   "metadata": {},
   "outputs": [],
   "source": [
    "from pandas.tseries.offsets import BDay\n",
    "dataset_for_prediction['Date'] =pd.to_datetime(dataset_for_prediction['Date'])\n",
    "dataset_for_prediction.index= dataset_for_prediction['Date']\n",
    "#dataset_test.index.freq='B'\n"
   ]
  },
  {
   "cell_type": "code",
   "execution_count": 14,
   "metadata": {},
   "outputs": [
    {
     "data": {
      "text/html": [
       "<div>\n",
       "<style scoped>\n",
       "    .dataframe tbody tr th:only-of-type {\n",
       "        vertical-align: middle;\n",
       "    }\n",
       "\n",
       "    .dataframe tbody tr th {\n",
       "        vertical-align: top;\n",
       "    }\n",
       "\n",
       "    .dataframe thead th {\n",
       "        text-align: right;\n",
       "    }\n",
       "</style>\n",
       "<table border=\"1\" class=\"dataframe\">\n",
       "  <thead>\n",
       "    <tr style=\"text-align: right;\">\n",
       "      <th></th>\n",
       "      <th>Date</th>\n",
       "      <th>Open</th>\n",
       "      <th>High</th>\n",
       "      <th>Low</th>\n",
       "      <th>Close</th>\n",
       "      <th>Adj Close</th>\n",
       "      <th>Volume</th>\n",
       "      <th>Mean</th>\n",
       "      <th>Actual</th>\n",
       "    </tr>\n",
       "    <tr>\n",
       "      <th>Date</th>\n",
       "      <th></th>\n",
       "      <th></th>\n",
       "      <th></th>\n",
       "      <th></th>\n",
       "      <th></th>\n",
       "      <th></th>\n",
       "      <th></th>\n",
       "      <th></th>\n",
       "      <th></th>\n",
       "    </tr>\n",
       "  </thead>\n",
       "  <tbody>\n",
       "    <tr>\n",
       "      <th>2008-10-01</th>\n",
       "      <td>2008-10-01</td>\n",
       "      <td>15.988571</td>\n",
       "      <td>16.051428</td>\n",
       "      <td>15.341429</td>\n",
       "      <td>15.588572</td>\n",
       "      <td>13.604352</td>\n",
       "      <td>324121000</td>\n",
       "      <td>15.696429</td>\n",
       "      <td>14.913572</td>\n",
       "    </tr>\n",
       "    <tr>\n",
       "      <th>2008-10-02</th>\n",
       "      <td>2008-10-02</td>\n",
       "      <td>15.430000</td>\n",
       "      <td>15.541429</td>\n",
       "      <td>14.285714</td>\n",
       "      <td>14.300000</td>\n",
       "      <td>12.479802</td>\n",
       "      <td>402341100</td>\n",
       "      <td>14.913572</td>\n",
       "      <td>14.367857</td>\n",
       "    </tr>\n",
       "  </tbody>\n",
       "</table>\n",
       "</div>"
      ],
      "text/plain": [
       "                 Date       Open       High        Low      Close  Adj Close  \\\n",
       "Date                                                                           \n",
       "2008-10-01 2008-10-01  15.988571  16.051428  15.341429  15.588572  13.604352   \n",
       "2008-10-02 2008-10-02  15.430000  15.541429  14.285714  14.300000  12.479802   \n",
       "\n",
       "               Volume       Mean     Actual  \n",
       "Date                                         \n",
       "2008-10-01  324121000  15.696429  14.913572  \n",
       "2008-10-02  402341100  14.913572  14.367857  "
      ]
     },
     "execution_count": 14,
     "metadata": {},
     "output_type": "execute_result"
    }
   ],
   "source": [
    "dataset_for_prediction.head(2)"
   ]
  },
  {
   "cell_type": "code",
   "execution_count": 15,
   "metadata": {},
   "outputs": [
    {
     "name": "stdout",
     "output_type": "stream",
     "text": [
      "<class 'pandas.core.frame.DataFrame'>\n",
      "DatetimeIndex: 2767 entries, 2008-10-01 to 2019-09-27\n",
      "Data columns (total 9 columns):\n",
      "Date         2767 non-null datetime64[ns]\n",
      "Open         2767 non-null float64\n",
      "High         2767 non-null float64\n",
      "Low          2767 non-null float64\n",
      "Close        2767 non-null float64\n",
      "Adj Close    2767 non-null float64\n",
      "Volume       2767 non-null int64\n",
      "Mean         2767 non-null float64\n",
      "Actual       2767 non-null float64\n",
      "dtypes: datetime64[ns](1), float64(7), int64(1)\n",
      "memory usage: 216.2 KB\n"
     ]
    }
   ],
   "source": [
    "dataset_for_prediction.info()"
   ]
  },
  {
   "cell_type": "code",
   "execution_count": 16,
   "metadata": {},
   "outputs": [
    {
     "data": {
      "text/plain": [
       "Text(0.5, 1.0, ' Apple Stock Value')"
      ]
     },
     "execution_count": 16,
     "metadata": {},
     "output_type": "execute_result"
    },
    {
     "data": {
      "image/png": "[encoded data removed]",
      "text/plain": [
       "<Figure size 1080x144 with 1 Axes>"
      ]
     },
     "metadata": {
      "needs_background": "light"
     },
     "output_type": "display_data"
    }
   ],
   "source": [
    "\n",
    "dataset_for_prediction['Mean'].plot(color='green', figsize=(15,2))\n",
    "plt.legend([  'Mean'])\n",
    "plt.title(\" Apple Stock Value\")"
   ]
  },
  {
   "cell_type": "code",
   "execution_count": 17,
   "metadata": {},
   "outputs": [
    {
     "data": {
      "text/plain": [
       "Text(0.5, 1.0, ' Apple  Stock Volume')"
      ]
     },
     "execution_count": 17,
     "metadata": {},
     "output_type": "execute_result"
    },
    {
     "data": {
      "image/png": "[encoded data removed]",
      "text/plain": [
       "<Figure size 1080x144 with 1 Axes>"
      ]
     },
     "metadata": {
      "needs_background": "light"
     },
     "output_type": "display_data"
    }
   ],
   "source": [
    "dataset_for_prediction['Volume'].plot(color='blue', figsize=(15,2))\n",
    "plt.title(\" Apple  Stock Volume\")"
   ]
  },
  {
   "cell_type": "code",
   "execution_count": 18,
   "metadata": {},
   "outputs": [
    {
     "name": "stderr",
     "output_type": "stream",
     "text": [
      "C:\\Users\\khandelwalr\\AppData\\Local\\Continuum\\anaconda3\\lib\\site-packages\\sklearn\\preprocessing\\data.py:334: DataConversionWarning: Data with input dtype int64, float64 were all converted to float64 by MinMaxScaler.\n",
      "  return self.partial_fit(X, y)\n"
     ]
    }
   ],
   "source": [
    "# normalizing input features\n",
    "from sklearn.preprocessing import MinMaxScaler\n",
    "sc_in = MinMaxScaler(feature_range=(0, 1))\n",
    "scaled_input = sc_in.fit_transform(dataset_for_prediction[['Low', 'High','Open', 'Close', 'Volume', 'Adj Close', 'Mean']])\n",
    "scaled_input =pd.DataFrame(scaled_input)\n",
    "X= scaled_input"
   ]
  },
  {
   "cell_type": "code",
   "execution_count": 19,
   "metadata": {},
   "outputs": [],
   "source": [
    "sc_out = MinMaxScaler(feature_range=(0, 1))\n",
    "scaler_output = sc_out.fit_transform(dataset_for_prediction[['Actual']])\n",
    "scaler_output =pd.DataFrame(scaler_output)\n",
    "y=scaler_output"
   ]
  },
  {
   "cell_type": "code",
   "execution_count": 20,
   "metadata": {},
   "outputs": [],
   "source": [
    "X= scaled_input\n"
   ]
  },
  {
   "cell_type": "code",
   "execution_count": 21,
   "metadata": {},
   "outputs": [
    {
     "data": {
      "text/html": [
       "<div>\n",
       "<style scoped>\n",
       "    .dataframe tbody tr th:only-of-type {\n",
       "        vertical-align: middle;\n",
       "    }\n",
       "\n",
       "    .dataframe tbody tr th {\n",
       "        vertical-align: top;\n",
       "    }\n",
       "\n",
       "    .dataframe thead th {\n",
       "        text-align: right;\n",
       "    }\n",
       "</style>\n",
       "<table border=\"1\" class=\"dataframe\">\n",
       "  <thead>\n",
       "    <tr style=\"text-align: right;\">\n",
       "      <th></th>\n",
       "      <th>Low</th>\n",
       "      <th>High</th>\n",
       "      <th>Open</th>\n",
       "      <th>Close</th>\n",
       "      <th>Volume</th>\n",
       "      <th>Adj Close</th>\n",
       "      <th>Mean</th>\n",
       "    </tr>\n",
       "    <tr>\n",
       "      <th>Date</th>\n",
       "      <th></th>\n",
       "      <th></th>\n",
       "      <th></th>\n",
       "      <th></th>\n",
       "      <th></th>\n",
       "      <th></th>\n",
       "      <th></th>\n",
       "    </tr>\n",
       "  </thead>\n",
       "  <tbody>\n",
       "    <tr>\n",
       "      <th>2019-09-26</th>\n",
       "      <td>0.94991</td>\n",
       "      <td>0.943496</td>\n",
       "      <td>0.950875</td>\n",
       "      <td>0.944862</td>\n",
       "      <td>0.013289</td>\n",
       "      <td>0.960536</td>\n",
       "      <td>0.946681</td>\n",
       "    </tr>\n",
       "    <tr>\n",
       "      <th>2019-09-27</th>\n",
       "      <td>0.94282</td>\n",
       "      <td>0.943587</td>\n",
       "      <td>0.953335</td>\n",
       "      <td>0.940018</td>\n",
       "      <td>0.024883</td>\n",
       "      <td>0.955645</td>\n",
       "      <td>0.943206</td>\n",
       "    </tr>\n",
       "  </tbody>\n",
       "</table>\n",
       "</div>"
      ],
      "text/plain": [
       "                Low      High      Open     Close    Volume  Adj Close  \\\n",
       "Date                                                                     \n",
       "2019-09-26  0.94991  0.943496  0.950875  0.944862  0.013289   0.960536   \n",
       "2019-09-27  0.94282  0.943587  0.953335  0.940018  0.024883   0.955645   \n",
       "\n",
       "                Mean  \n",
       "Date                  \n",
       "2019-09-26  0.946681  \n",
       "2019-09-27  0.943206  "
      ]
     },
     "execution_count": 21,
     "metadata": {},
     "output_type": "execute_result"
    }
   ],
   "source": [
    "X.rename(columns={0:'Low', 1:'High', 2:'Open', 3:'Close', 4:'Volume', 5:'Adj Close', 6:'Mean'}, inplace=True)\n",
    "X= pd.DataFrame(X)\n",
    "X.index=dataset_for_prediction.index\n",
    "X.tail(2)"
   ]
  },
  {
   "cell_type": "code",
   "execution_count": 22,
   "metadata": {},
   "outputs": [
    {
     "data": {
      "text/html": [
       "<div>\n",
       "<style scoped>\n",
       "    .dataframe tbody tr th:only-of-type {\n",
       "        vertical-align: middle;\n",
       "    }\n",
       "\n",
       "    .dataframe tbody tr th {\n",
       "        vertical-align: top;\n",
       "    }\n",
       "\n",
       "    .dataframe thead th {\n",
       "        text-align: right;\n",
       "    }\n",
       "</style>\n",
       "<table border=\"1\" class=\"dataframe\">\n",
       "  <thead>\n",
       "    <tr style=\"text-align: right;\">\n",
       "      <th></th>\n",
       "      <th>Stock Price next day</th>\n",
       "    </tr>\n",
       "    <tr>\n",
       "      <th>Date</th>\n",
       "      <th></th>\n",
       "    </tr>\n",
       "  </thead>\n",
       "  <tbody>\n",
       "    <tr>\n",
       "      <th>2008-10-01</th>\n",
       "      <td>0.015763</td>\n",
       "    </tr>\n",
       "    <tr>\n",
       "      <th>2008-10-02</th>\n",
       "      <td>0.013284</td>\n",
       "    </tr>\n",
       "  </tbody>\n",
       "</table>\n",
       "</div>"
      ],
      "text/plain": [
       "            Stock Price next day\n",
       "Date                            \n",
       "2008-10-01              0.015763\n",
       "2008-10-02              0.013284"
      ]
     },
     "execution_count": 22,
     "metadata": {},
     "output_type": "execute_result"
    }
   ],
   "source": [
    "y.rename(columns={0:'Stock Price next day'}, inplace= True)\n",
    "y.index=dataset_for_prediction.index\n",
    "y.head(2)"
   ]
  },
  {
   "cell_type": "code",
   "execution_count": 23,
   "metadata": {},
   "outputs": [
    {
     "data": {
      "image/png": "[encoded data removed]",
      "text/plain": [
       "<Figure size 432x288 with 4 Axes>"
      ]
     },
     "metadata": {
      "needs_background": "light"
     },
     "output_type": "display_data"
    }
   ],
   "source": [
    "import statsmodels.api as sm\n",
    "seas_d=sm.tsa.seasonal_decompose(X['Mean'],model='add',freq=365);\n",
    "fig=seas_d.plot()\n",
    "fig.set_figheight(4)\n",
    "plt.show()"
   ]
  },
  {
   "cell_type": "code",
   "execution_count": 24,
   "metadata": {},
   "outputs": [
    {
     "name": "stdout",
     "output_type": "stream",
     "text": [
      "554\n"
     ]
    }
   ],
   "source": [
    "train_size=int(len(dataset) *0.80)\n",
    "test_size = int(len(dataset)) - train_size\n",
    "print(test_size)"
   ]
  },
  {
   "cell_type": "code",
   "execution_count": 25,
   "metadata": {},
   "outputs": [],
   "source": [
    "train_X, train_y = X[:train_size].dropna(), y[:train_size].dropna()\n",
    "test_X, test_y = X[train_size:].dropna(), y[train_size:].dropna()"
   ]
  },
  {
   "cell_type": "code",
   "execution_count": 26,
   "metadata": {},
   "outputs": [
    {
     "data": {
      "text/plain": [
       "Index(['Low', 'High', 'Open', 'Close', 'Volume', 'Adj Close', 'Mean'], dtype='object')"
      ]
     },
     "execution_count": 26,
     "metadata": {},
     "output_type": "execute_result"
    }
   ],
   "source": [
    "test_X.columns"
   ]
  },
  {
   "cell_type": "code",
   "execution_count": 27,
   "metadata": {},
   "outputs": [],
   "source": [
    "y_test=y['Stock Price next day'][:train_size].dropna()"
   ]
  },
  {
   "cell_type": "code",
   "execution_count": 28,
   "metadata": {},
   "outputs": [
    {
     "data": {
      "text/plain": [
       "pandas.core.series.Series"
      ]
     },
     "execution_count": 28,
     "metadata": {},
     "output_type": "execute_result"
    }
   ],
   "source": [
    "type(y_test)"
   ]
  },
  {
   "cell_type": "code",
   "execution_count": 29,
   "metadata": {},
   "outputs": [],
   "source": [
    "\n",
    "from statsmodels.tsa.stattools import adfuller\n",
    "def test_adf(series, title=''):\n",
    "    dfout={}\n",
    "    dftest=sm.tsa.adfuller(series.dropna(), autolag='AIC', regression='ct')\n",
    "    for key,val in dftest[4].items():\n",
    "        dfout[f'critical value ({key})']=val\n",
    "    if dftest[1]<=0.05:\n",
    "        print(\"Strong evidence against Null Hypothesis\")\n",
    "        print(\"Reject Null Hypothesis - Data is  Stationary\")\n",
    "        print(\"Data is Stationary\", title)\n",
    "    else:\n",
    "        print(\"Strong evidence for  Null Hypothesis\")\n",
    "        print(\"Accept Null Hypothesis - Data is not Stationary\")\n",
    "        print(\"Data is NOT Stationary for\", title)"
   ]
  },
  {
   "cell_type": "code",
   "execution_count": 30,
   "metadata": {},
   "outputs": [
    {
     "name": "stdout",
     "output_type": "stream",
     "text": [
      "Strong evidence for  Null Hypothesis\n",
      "Accept Null Hypothesis - Data is not Stationary\n",
      "Data is NOT Stationary for  Stock Price\n"
     ]
    }
   ],
   "source": [
    "test_adf(y_test, \" Stock Price\")"
   ]
  },
  {
   "cell_type": "code",
   "execution_count": 31,
   "metadata": {},
   "outputs": [
    {
     "name": "stdout",
     "output_type": "stream",
     "text": [
      "Strong evidence against Null Hypothesis\n",
      "Reject Null Hypothesis - Data is  Stationary\n",
      "Data is Stationary  Stock Price\n"
     ]
    }
   ],
   "source": [
    "test_adf(y_test.diff(), \" Stock Price\")"
   ]
  },
  {
   "cell_type": "code",
   "execution_count": 32,
   "metadata": {},
   "outputs": [
    {
     "data": {
      "image/png": "[encoded data removed]",
      "text/plain": [
       "<Figure size 720x360 with 2 Axes>"
      ]
     },
     "metadata": {
      "needs_background": "light"
     },
     "output_type": "display_data"
    }
   ],
   "source": [
    "#Correlograms\n",
    "fig,ax= plt.subplots(2,1, figsize=(10,5))\n",
    "fig=sm.tsa.graphics.plot_acf(y_test, lags=50, ax=ax[0])\n",
    "fig=sm.tsa.graphics.plot_pacf(y_test, lags=50, ax=ax[1])\n",
    "plt.show()\n"
   ]
  },
  {
   "cell_type": "code",
   "execution_count": 33,
   "metadata": {},
   "outputs": [
    {
     "name": "stdout",
     "output_type": "stream",
     "text": [
      "Fit ARIMA: order=(1, 1, 1) seasonal_order=(0, 0, 0, 1); AIC=-17654.320, BIC=-17591.597, Fit time=4.979 seconds\n",
      "Fit ARIMA: order=(0, 1, 0) seasonal_order=(0, 0, 0, 1); AIC=-17648.029, BIC=-17596.710, Fit time=2.712 seconds\n",
      "Fit ARIMA: order=(1, 1, 0) seasonal_order=(0, 0, 0, 1); AIC=-17695.926, BIC=-17638.905, Fit time=9.711 seconds\n",
      "Fit ARIMA: order=(0, 1, 1) seasonal_order=(0, 0, 0, 1); AIC=-17735.146, BIC=-17678.125, Fit time=9.816 seconds\n",
      "Fit ARIMA: order=(0, 1, 2) seasonal_order=(0, 0, 0, 1); AIC=-17758.577, BIC=-17695.853, Fit time=11.131 seconds\n",
      "Fit ARIMA: order=(1, 1, 3) seasonal_order=(0, 0, 0, 1); AIC=-17762.799, BIC=-17688.672, Fit time=12.446 seconds\n",
      "Fit ARIMA: order=(0, 1, 3) seasonal_order=(0, 0, 0, 1); AIC=-17725.286, BIC=-17656.861, Fit time=9.729 seconds\n",
      "Fit ARIMA: order=(2, 1, 3) seasonal_order=(0, 0, 0, 1); AIC=-17647.935, BIC=-17568.106, Fit time=2.621 seconds\n",
      "Fit ARIMA: order=(1, 1, 2) seasonal_order=(0, 0, 0, 1); AIC=-17658.861, BIC=-17590.436, Fit time=10.068 seconds\n",
      "Fit ARIMA: order=(1, 1, 4) seasonal_order=(0, 0, 0, 1); AIC=-17693.686, BIC=-17613.857, Fit time=13.680 seconds\n",
      "Fit ARIMA: order=(2, 1, 4) seasonal_order=(0, 0, 0, 1); AIC=-17683.161, BIC=-17597.630, Fit time=14.849 seconds\n",
      "Total fit time: 101.761 seconds\n"
     ]
    }
   ],
   "source": [
    "from pmdarima.arima import auto_arima\n",
    "step_wise=auto_arima(train_y, \n",
    "                     exogenous= train_X,\n",
    "                     start_p=1,  start_q=1, \n",
    "                     max_p=7,  max_q=7, \n",
    "                     d=1, max_d=7,\n",
    "                     trace=True, \n",
    "                     error_action='ignore', \n",
    "                     suppress_warnings=True, \n",
    "                     stepwise=True)"
   ]
  },
  {
   "cell_type": "code",
   "execution_count": null,
   "metadata": {},
   "outputs": [],
   "source": [
    "step_wise.summary()"
   ]
  },
  {
   "cell_type": "code",
   "execution_count": 34,
   "metadata": {},
   "outputs": [
    {
     "name": "stderr",
     "output_type": "stream",
     "text": [
      "C:\\Users\\khandelwalr\\AppData\\Local\\Continuum\\anaconda3\\lib\\site-packages\\statsmodels\\tsa\\base\\tsa_model.py:225: ValueWarning: A date index has been provided, but it has no associated frequency information and so will be ignored when e.g. forecasting.\n",
      "  ' ignored when e.g. forecasting.', ValueWarning)\n"
     ]
    }
   ],
   "source": [
    "from statsmodels.tsa.statespace.sarimax import SARIMAX\n",
    "model= SARIMAX(train_y, \n",
    "           exog=train_X,\n",
    "              order=(0,1,1),\n",
    "              enforce_invertibility=False, enforce_stationarity=False)"
   ]
  },
  {
   "cell_type": "code",
   "execution_count": 35,
   "metadata": {},
   "outputs": [
    {
     "name": "stderr",
     "output_type": "stream",
     "text": [
      "C:\\Users\\khandelwalr\\AppData\\Local\\Continuum\\anaconda3\\lib\\site-packages\\statsmodels\\base\\model.py:508: ConvergenceWarning: Maximum Likelihood optimization failed to converge. Check mle_retvals\n",
      "  \"Check mle_retvals\", ConvergenceWarning)\n",
      "C:\\Users\\khandelwalr\\AppData\\Local\\Continuum\\anaconda3\\lib\\site-packages\\statsmodels\\tsa\\statespace\\representation.py:375: FutureWarning: Using a non-tuple sequence for multidimensional indexing is deprecated; use `arr[tuple(seq)]` instead of `arr[seq]`. In the future this will be interpreted as an array index, `arr[np.array(seq)]`, which will result either in an error or a different result.\n",
      "  return matrix[[slice(None)]*(matrix.ndim-1) + [0]]\n"
     ]
    }
   ],
   "source": [
    "results= model.fit()"
   ]
  },
  {
   "cell_type": "code",
   "execution_count": null,
   "metadata": {},
   "outputs": [],
   "source": [
    "test_X"
   ]
  },
  {
   "cell_type": "code",
   "execution_count": null,
   "metadata": {},
   "outputs": [],
   "source": [
    "test_X.info()"
   ]
  },
  {
   "cell_type": "code",
   "execution_count": null,
   "metadata": {},
   "outputs": [],
   "source": [
    "test_X[['Low', 'High', 'Open', 'Close', 'Volume', 'Adj Close', 'Mean']]"
   ]
  },
  {
   "cell_type": "code",
   "execution_count": null,
   "metadata": {},
   "outputs": [],
   "source": [
    "train_X"
   ]
  },
  {
   "cell_type": "code",
   "execution_count": 36,
   "metadata": {},
   "outputs": [
    {
     "name": "stdout",
     "output_type": "stream",
     "text": [
      "Fit ARIMA: order=(1, 1, 1) seasonal_order=(0, 0, 0, 1); AIC=-17218.100, BIC=-17195.291, Fit time=2.154 seconds\n",
      "Fit ARIMA: order=(0, 1, 0) seasonal_order=(0, 0, 0, 1); AIC=-17153.382, BIC=-17141.978, Fit time=0.976 seconds\n",
      "Fit ARIMA: order=(1, 1, 0) seasonal_order=(0, 0, 0, 1); AIC=-17213.276, BIC=-17196.170, Fit time=0.798 seconds\n",
      "Fit ARIMA: order=(0, 1, 1) seasonal_order=(0, 0, 0, 1); AIC=-17219.295, BIC=-17202.188, Fit time=0.923 seconds\n",
      "Fit ARIMA: order=(0, 1, 2) seasonal_order=(0, 0, 0, 1); AIC=-17218.621, BIC=-17195.812, Fit time=2.212 seconds\n",
      "Fit ARIMA: order=(1, 1, 2) seasonal_order=(0, 0, 0, 1); AIC=-17217.589, BIC=-17189.078, Fit time=1.722 seconds\n",
      "Total fit time: 8.790 seconds\n"
     ]
    }
   ],
   "source": [
    "step_wise=auto_arima(train_y, \n",
    "                     start_p=1,  start_q=1, \n",
    "                     max_p=7,  max_q=7, \n",
    "                     d=1, max_d=7,\n",
    "                     trace=True, \n",
    "                     error_action='ignore', \n",
    "                     suppress_warnings=True, \n",
    "                     stepwise=True)"
   ]
  },
  {
   "cell_type": "code",
   "execution_count": 37,
   "metadata": {},
   "outputs": [
    {
     "data": {
      "text/html": [
       "<table class=\"simpletable\">\n",
       "<caption>Statespace Model Results</caption>\n",
       "<tr>\n",
       "  <th>Dep. Variable:</th>           <td>y</td>        <th>  No. Observations:  </th>    <td>2214</td>   \n",
       "</tr>\n",
       "<tr>\n",
       "  <th>Model:</th>           <td>SARIMAX(0, 1, 1)</td> <th>  Log Likelihood     </th>  <td>8612.647</td> \n",
       "</tr>\n",
       "<tr>\n",
       "  <th>Date:</th>            <td>Sat, 05 Oct 2019</td> <th>  AIC                </th> <td>-17219.295</td>\n",
       "</tr>\n",
       "<tr>\n",
       "  <th>Time:</th>                <td>08:51:37</td>     <th>  BIC                </th> <td>-17202.188</td>\n",
       "</tr>\n",
       "<tr>\n",
       "  <th>Sample:</th>                  <td>0</td>        <th>  HQIC               </th> <td>-17213.046</td>\n",
       "</tr>\n",
       "<tr>\n",
       "  <th></th>                      <td> - 2214</td>     <th>                     </th>      <td> </td>    \n",
       "</tr>\n",
       "<tr>\n",
       "  <th>Covariance Type:</th>        <td>opg</td>       <th>                     </th>      <td> </td>    \n",
       "</tr>\n",
       "</table>\n",
       "<table class=\"simpletable\">\n",
       "<tr>\n",
       "      <td></td>         <th>coef</th>     <th>std err</th>      <th>z</th>      <th>P>|z|</th>  <th>[0.025</th>    <th>0.975]</th>  \n",
       "</tr>\n",
       "<tr>\n",
       "  <th>intercept</th> <td>    0.0003</td> <td>    0.000</td> <td>    2.142</td> <td> 0.032</td> <td> 2.33e-05</td> <td>    0.001</td>\n",
       "</tr>\n",
       "<tr>\n",
       "  <th>ma.L1</th>     <td>    0.1761</td> <td>    0.012</td> <td>   14.218</td> <td> 0.000</td> <td>    0.152</td> <td>    0.200</td>\n",
       "</tr>\n",
       "<tr>\n",
       "  <th>sigma2</th>    <td> 2.433e-05</td> <td> 2.94e-07</td> <td>   82.707</td> <td> 0.000</td> <td> 2.38e-05</td> <td> 2.49e-05</td>\n",
       "</tr>\n",
       "</table>\n",
       "<table class=\"simpletable\">\n",
       "<tr>\n",
       "  <th>Ljung-Box (Q):</th>          <td>59.73</td> <th>  Jarque-Bera (JB):  </th> <td>10306.93</td>\n",
       "</tr>\n",
       "<tr>\n",
       "  <th>Prob(Q):</th>                <td>0.02</td>  <th>  Prob(JB):          </th>   <td>0.00</td>  \n",
       "</tr>\n",
       "<tr>\n",
       "  <th>Heteroskedasticity (H):</th> <td>7.41</td>  <th>  Skew:              </th>   <td>-0.14</td> \n",
       "</tr>\n",
       "<tr>\n",
       "  <th>Prob(H) (two-sided):</th>    <td>0.00</td>  <th>  Kurtosis:          </th>   <td>13.57</td> \n",
       "</tr>\n",
       "</table><br/><br/>Warnings:<br/>[1] Covariance matrix calculated using the outer product of gradients (complex-step)."
      ],
      "text/plain": [
       "<class 'statsmodels.iolib.summary.Summary'>\n",
       "\"\"\"\n",
       "                           Statespace Model Results                           \n",
       "==============================================================================\n",
       "Dep. Variable:                      y   No. Observations:                 2214\n",
       "Model:               SARIMAX(0, 1, 1)   Log Likelihood                8612.647\n",
       "Date:                Sat, 05 Oct 2019   AIC                         -17219.295\n",
       "Time:                        08:51:37   BIC                         -17202.188\n",
       "Sample:                             0   HQIC                        -17213.046\n",
       "                               - 2214                                         \n",
       "Covariance Type:                  opg                                         \n",
       "==============================================================================\n",
       "                 coef    std err          z      P>|z|      [0.025      0.975]\n",
       "------------------------------------------------------------------------------\n",
       "intercept      0.0003      0.000      2.142      0.032    2.33e-05       0.001\n",
       "ma.L1          0.1761      0.012     14.218      0.000       0.152       0.200\n",
       "sigma2      2.433e-05   2.94e-07     82.707      0.000    2.38e-05    2.49e-05\n",
       "===================================================================================\n",
       "Ljung-Box (Q):                       59.73   Jarque-Bera (JB):             10306.93\n",
       "Prob(Q):                              0.02   Prob(JB):                         0.00\n",
       "Heteroskedasticity (H):               7.41   Skew:                            -0.14\n",
       "Prob(H) (two-sided):                  0.00   Kurtosis:                        13.57\n",
       "===================================================================================\n",
       "\n",
       "Warnings:\n",
       "[1] Covariance matrix calculated using the outer product of gradients (complex-step).\n",
       "\"\"\""
      ]
     },
     "execution_count": 37,
     "metadata": {},
     "output_type": "execute_result"
    }
   ],
   "source": [
    "step_wise.summary()"
   ]
  },
  {
   "cell_type": "code",
   "execution_count": 38,
   "metadata": {},
   "outputs": [
    {
     "name": "stderr",
     "output_type": "stream",
     "text": [
      "C:\\Users\\khandelwalr\\AppData\\Local\\Continuum\\anaconda3\\lib\\site-packages\\statsmodels\\tsa\\base\\tsa_model.py:225: ValueWarning: A date index has been provided, but it has no associated frequency information and so will be ignored when e.g. forecasting.\n",
      "  ' ignored when e.g. forecasting.', ValueWarning)\n",
      "C:\\Users\\khandelwalr\\AppData\\Local\\Continuum\\anaconda3\\lib\\site-packages\\statsmodels\\tsa\\base\\tsa_model.py:531: ValueWarning: No supported index is available. Prediction results will be given with an integer index beginning at `start`.\n",
      "  ValueWarning)\n"
     ]
    }
   ],
   "source": [
    "model= SARIMAX(train_y,            \n",
    "              order=(2,1,0),\n",
    "              enforce_invertibility=False, enforce_stationarity=False)\n",
    "results = model.fit()\n",
    "forecast = results.forecast(steps=2)"
   ]
  },
  {
   "cell_type": "code",
   "execution_count": 39,
   "metadata": {},
   "outputs": [
    {
     "data": {
      "text/plain": [
       "-1"
      ]
     },
     "execution_count": 39,
     "metadata": {},
     "output_type": "execute_result"
    }
   ],
   "source": [
    " a=train_size+test_size-(steps)-train_size\n",
    "steps"
   ]
  },
  {
   "cell_type": "code",
   "execution_count": 40,
   "metadata": {},
   "outputs": [
    {
     "name": "stderr",
     "output_type": "stream",
     "text": [
      "C:\\Users\\khandelwalr\\AppData\\Local\\Continuum\\anaconda3\\lib\\site-packages\\statsmodels\\tsa\\base\\tsa_model.py:225: ValueWarning: A date index has been provided, but it has no associated frequency information and so will be ignored when e.g. forecasting.\n",
      "  ' ignored when e.g. forecasting.', ValueWarning)\n",
      "C:\\Users\\khandelwalr\\AppData\\Local\\Continuum\\anaconda3\\lib\\site-packages\\statsmodels\\base\\model.py:508: ConvergenceWarning: Maximum Likelihood optimization failed to converge. Check mle_retvals\n",
      "  \"Check mle_retvals\", ConvergenceWarning)\n",
      "C:\\Users\\khandelwalr\\AppData\\Local\\Continuum\\anaconda3\\lib\\site-packages\\statsmodels\\tsa\\statespace\\representation.py:375: FutureWarning: Using a non-tuple sequence for multidimensional indexing is deprecated; use `arr[tuple(seq)]` instead of `arr[seq]`. In the future this will be interpreted as an array index, `arr[np.array(seq)]`, which will result either in an error or a different result.\n",
      "  return matrix[[slice(None)]*(matrix.ndim-1) + [0]]\n"
     ]
    },
    {
     "name": "stdout",
     "output_type": "stream",
     "text": [
      "553\n"
     ]
    },
    {
     "name": "stderr",
     "output_type": "stream",
     "text": [
      "C:\\Users\\khandelwalr\\AppData\\Local\\Continuum\\anaconda3\\lib\\site-packages\\statsmodels\\tsa\\base\\tsa_model.py:531: ValueWarning: No supported index is available. Prediction results will be given with an integer index beginning at `start`.\n",
      "  ValueWarning)\n"
     ]
    }
   ],
   "source": [
    "model= SARIMAX(train_y, \n",
    "               exog=train_X,            \n",
    "              order=(0,1,1),\n",
    "              enforce_invertibility=False, enforce_stationarity=False)\n",
    "results = model.fit()\n",
    "predictions= results.predict(start =train_size, end=train_size+test_size+(steps)-1,exog=test_X)\n",
    "print(len(predictions))"
   ]
  },
  {
   "cell_type": "code",
   "execution_count": 41,
   "metadata": {},
   "outputs": [
    {
     "name": "stderr",
     "output_type": "stream",
     "text": [
      "C:\\Users\\khandelwalr\\AppData\\Local\\Continuum\\anaconda3\\lib\\site-packages\\statsmodels\\tsa\\base\\tsa_model.py:531: ValueWarning: No supported index is available. Prediction results will be given with an integer index beginning at `start`.\n",
      "  ValueWarning)\n"
     ]
    }
   ],
   "source": [
    "forecast_1= results.forecast(steps=test_size-1, exog=test_X)"
   ]
  },
  {
   "cell_type": "code",
   "execution_count": null,
   "metadata": {},
   "outputs": [],
   "source": []
  },
  {
   "cell_type": "code",
   "execution_count": 42,
   "metadata": {},
   "outputs": [],
   "source": [
    "act= pd.DataFrame(scaler_output.iloc[train_size:, 0])\n"
   ]
  },
  {
   "cell_type": "code",
   "execution_count": 43,
   "metadata": {},
   "outputs": [],
   "source": [
    "forecast_apple= pd.DataFrame(forecast_1)\n",
    "forecast_apple.reset_index(drop=True, inplace=True)\n",
    "forecast_apple.index=test_X.index\n",
    "forecast_apple['Actual'] =scaler_output.iloc[train_size:, 0]\n",
    "forecast_apple.rename(columns={0:'Forecast'}, inplace=True)"
   ]
  },
  {
   "cell_type": "code",
   "execution_count": 44,
   "metadata": {},
   "outputs": [
    {
     "data": {
      "text/plain": [
       "<matplotlib.axes._subplots.AxesSubplot at 0x18e0f82dac8>"
      ]
     },
     "execution_count": 44,
     "metadata": {},
     "output_type": "execute_result"
    },
    {
     "data": {
      "image/png": "[encoded data removed]",
      "text/plain": [
       "<Figure size 432x288 with 1 Axes>"
      ]
     },
     "metadata": {
      "needs_background": "light"
     },
     "output_type": "display_data"
    }
   ],
   "source": [
    "forecast_apple['Forecast'].plot(legend=True)\n",
    "forecast_apple['Actual'].plot(legend=True)"
   ]
  },
  {
   "cell_type": "code",
   "execution_count": 45,
   "metadata": {},
   "outputs": [],
   "source": [
    "predictions=pd.DataFrame(predictions)\n",
    "predictions.reset_index(drop=True, inplace=True)\n",
    "predictions.index=test_X.index\n",
    "predictions['Actual'] = act['Stock Price next day']\n",
    "predictions.rename(columns={0:'Pred'}, inplace=True)\n",
    "\n"
   ]
  },
  {
   "cell_type": "code",
   "execution_count": 46,
   "metadata": {},
   "outputs": [
    {
     "data": {
      "text/plain": [
       "<matplotlib.axes._subplots.AxesSubplot at 0x18e0f83ef60>"
      ]
     },
     "execution_count": 46,
     "metadata": {},
     "output_type": "execute_result"
    },
    {
     "data": {
      "image/png": "[encoded data removed]",
      "text/plain": [
       "<Figure size 1440x576 with 1 Axes>"
      ]
     },
     "metadata": {
      "needs_background": "light"
     },
     "output_type": "display_data"
    }
   ],
   "source": [
    "predictions['Actual'].plot(figsize=(20,8), legend=True, color='blue')\n",
    "predictions['Pred'].plot(legend=True, color='red', figsize=(20,8))\n",
    "\n"
   ]
  },
  {
   "cell_type": "code",
   "execution_count": 47,
   "metadata": {},
   "outputs": [
    {
     "data": {
      "text/plain": [
       "0.014775277947563588"
      ]
     },
     "execution_count": 47,
     "metadata": {},
     "output_type": "execute_result"
    }
   ],
   "source": [
    "from statsmodels.tools.eval_measures import rmse\n",
    "error=rmse(predictions['Pred'], predictions['Actual'])\n",
    "error"
   ]
  },
  {
   "cell_type": "markdown",
   "metadata": {},
   "source": [
    "## Inverse Scalar"
   ]
  },
  {
   "cell_type": "code",
   "execution_count": null,
   "metadata": {},
   "outputs": [],
   "source": [
    "X.head(2)\n"
   ]
  },
  {
   "cell_type": "code",
   "execution_count": 53,
   "metadata": {},
   "outputs": [],
   "source": [
    "# invert predictions, scale values back to real index/price range.\n",
    "testPredict = sc_out.inverse_transform(predictions[['Pred']])\n",
    "testActual = sc_out.inverse_transform(predictions[['Actual']])"
   ]
  },
  {
   "cell_type": "code",
   "execution_count": 55,
   "metadata": {},
   "outputs": [],
   "source": [
    "act_1=pd.DataFrame(testActual)"
   ]
  },
  {
   "cell_type": "code",
   "execution_count": 54,
   "metadata": {},
   "outputs": [
    {
     "data": {
      "text/html": [
       "<div>\n",
       "<style scoped>\n",
       "    .dataframe tbody tr th:only-of-type {\n",
       "        vertical-align: middle;\n",
       "    }\n",
       "\n",
       "    .dataframe tbody tr th {\n",
       "        vertical-align: top;\n",
       "    }\n",
       "\n",
       "    .dataframe thead th {\n",
       "        text-align: right;\n",
       "    }\n",
       "</style>\n",
       "<table border=\"1\" class=\"dataframe\">\n",
       "  <thead>\n",
       "    <tr style=\"text-align: right;\">\n",
       "      <th></th>\n",
       "      <th>0</th>\n",
       "    </tr>\n",
       "    <tr>\n",
       "      <th>Date</th>\n",
       "      <th></th>\n",
       "    </tr>\n",
       "  </thead>\n",
       "  <tbody>\n",
       "    <tr>\n",
       "      <th>2017-07-19</th>\n",
       "      <td>150.991939</td>\n",
       "    </tr>\n",
       "    <tr>\n",
       "      <th>2017-07-20</th>\n",
       "      <td>150.098419</td>\n",
       "    </tr>\n",
       "    <tr>\n",
       "      <th>2017-07-21</th>\n",
       "      <td>150.226836</td>\n",
       "    </tr>\n",
       "    <tr>\n",
       "      <th>2017-07-24</th>\n",
       "      <td>152.075094</td>\n",
       "    </tr>\n",
       "    <tr>\n",
       "      <th>2017-07-25</th>\n",
       "      <td>152.666893</td>\n",
       "    </tr>\n",
       "    <tr>\n",
       "      <th>2017-07-26</th>\n",
       "      <td>153.226908</td>\n",
       "    </tr>\n",
       "    <tr>\n",
       "      <th>2017-07-27</th>\n",
       "      <td>149.636464</td>\n",
       "    </tr>\n",
       "    <tr>\n",
       "      <th>2017-07-28</th>\n",
       "      <td>149.459777</td>\n",
       "    </tr>\n",
       "    <tr>\n",
       "      <th>2017-07-31</th>\n",
       "      <td>148.562788</td>\n",
       "    </tr>\n",
       "    <tr>\n",
       "      <th>2017-08-01</th>\n",
       "      <td>150.140815</td>\n",
       "    </tr>\n",
       "    <tr>\n",
       "      <th>2017-08-02</th>\n",
       "      <td>156.205983</td>\n",
       "    </tr>\n",
       "    <tr>\n",
       "      <th>2017-08-03</th>\n",
       "      <td>154.869041</td>\n",
       "    </tr>\n",
       "    <tr>\n",
       "      <th>2017-08-04</th>\n",
       "      <td>155.962008</td>\n",
       "    </tr>\n",
       "    <tr>\n",
       "      <th>2017-08-07</th>\n",
       "      <td>158.369985</td>\n",
       "    </tr>\n",
       "    <tr>\n",
       "      <th>2017-08-08</th>\n",
       "      <td>159.525879</td>\n",
       "    </tr>\n",
       "    <tr>\n",
       "      <th>2017-08-09</th>\n",
       "      <td>160.490172</td>\n",
       "    </tr>\n",
       "    <tr>\n",
       "      <th>2017-08-10</th>\n",
       "      <td>154.151577</td>\n",
       "    </tr>\n",
       "    <tr>\n",
       "      <th>2017-08-11</th>\n",
       "      <td>157.167679</td>\n",
       "    </tr>\n",
       "    <tr>\n",
       "      <th>2017-08-14</th>\n",
       "      <td>159.334075</td>\n",
       "    </tr>\n",
       "    <tr>\n",
       "      <th>2017-08-15</th>\n",
       "      <td>161.014691</td>\n",
       "    </tr>\n",
       "    <tr>\n",
       "      <th>2017-08-16</th>\n",
       "      <td>160.084362</td>\n",
       "    </tr>\n",
       "    <tr>\n",
       "      <th>2017-08-17</th>\n",
       "      <td>156.944952</td>\n",
       "    </tr>\n",
       "    <tr>\n",
       "      <th>2017-08-18</th>\n",
       "      <td>156.994409</td>\n",
       "    </tr>\n",
       "    <tr>\n",
       "      <th>2017-08-21</th>\n",
       "      <td>156.636465</td>\n",
       "    </tr>\n",
       "    <tr>\n",
       "      <th>2017-08-22</th>\n",
       "      <td>159.407951</td>\n",
       "    </tr>\n",
       "    <tr>\n",
       "      <th>2017-08-23</th>\n",
       "      <td>159.522926</td>\n",
       "    </tr>\n",
       "    <tr>\n",
       "      <th>2017-08-24</th>\n",
       "      <td>158.488003</td>\n",
       "    </tr>\n",
       "    <tr>\n",
       "      <th>2017-08-25</th>\n",
       "      <td>159.326966</td>\n",
       "    </tr>\n",
       "    <tr>\n",
       "      <th>2017-08-28</th>\n",
       "      <td>160.958063</td>\n",
       "    </tr>\n",
       "    <tr>\n",
       "      <th>2017-08-29</th>\n",
       "      <td>162.469064</td>\n",
       "    </tr>\n",
       "    <tr>\n",
       "      <th>...</th>\n",
       "      <td>...</td>\n",
       "    </tr>\n",
       "    <tr>\n",
       "      <th>2019-08-16</th>\n",
       "      <td>204.360155</td>\n",
       "    </tr>\n",
       "    <tr>\n",
       "      <th>2019-08-19</th>\n",
       "      <td>207.669743</td>\n",
       "    </tr>\n",
       "    <tr>\n",
       "      <th>2019-08-20</th>\n",
       "      <td>207.651750</td>\n",
       "    </tr>\n",
       "    <tr>\n",
       "      <th>2019-08-21</th>\n",
       "      <td>209.748575</td>\n",
       "    </tr>\n",
       "    <tr>\n",
       "      <th>2019-08-22</th>\n",
       "      <td>209.438044</td>\n",
       "    </tr>\n",
       "    <tr>\n",
       "      <th>2019-08-23</th>\n",
       "      <td>199.027407</td>\n",
       "    </tr>\n",
       "    <tr>\n",
       "      <th>2019-08-26</th>\n",
       "      <td>204.150836</td>\n",
       "    </tr>\n",
       "    <tr>\n",
       "      <th>2019-08-27</th>\n",
       "      <td>201.164259</td>\n",
       "    </tr>\n",
       "    <tr>\n",
       "      <th>2019-08-28</th>\n",
       "      <td>203.329847</td>\n",
       "    </tr>\n",
       "    <tr>\n",
       "      <th>2019-08-29</th>\n",
       "      <td>206.405867</td>\n",
       "    </tr>\n",
       "    <tr>\n",
       "      <th>2019-08-30</th>\n",
       "      <td>205.837451</td>\n",
       "    </tr>\n",
       "    <tr>\n",
       "      <th>2019-09-03</th>\n",
       "      <td>203.130984</td>\n",
       "    </tr>\n",
       "    <tr>\n",
       "      <th>2019-09-04</th>\n",
       "      <td>206.670168</td>\n",
       "    </tr>\n",
       "    <tr>\n",
       "      <th>2019-09-05</th>\n",
       "      <td>210.603783</td>\n",
       "    </tr>\n",
       "    <tr>\n",
       "      <th>2019-09-06</th>\n",
       "      <td>210.265803</td>\n",
       "    </tr>\n",
       "    <tr>\n",
       "      <th>2019-09-09</th>\n",
       "      <td>210.932685</td>\n",
       "    </tr>\n",
       "    <tr>\n",
       "      <th>2019-09-10</th>\n",
       "      <td>213.841848</td>\n",
       "    </tr>\n",
       "    <tr>\n",
       "      <th>2019-09-11</th>\n",
       "      <td>220.749786</td>\n",
       "    </tr>\n",
       "    <tr>\n",
       "      <th>2019-09-12</th>\n",
       "      <td>219.334329</td>\n",
       "    </tr>\n",
       "    <tr>\n",
       "      <th>2019-09-13</th>\n",
       "      <td>215.250146</td>\n",
       "    </tr>\n",
       "    <tr>\n",
       "      <th>2019-09-16</th>\n",
       "      <td>216.927799</td>\n",
       "    </tr>\n",
       "    <tr>\n",
       "      <th>2019-09-17</th>\n",
       "      <td>217.466907</td>\n",
       "    </tr>\n",
       "    <tr>\n",
       "      <th>2019-09-18</th>\n",
       "      <td>219.448260</td>\n",
       "    </tr>\n",
       "    <tr>\n",
       "      <th>2019-09-19</th>\n",
       "      <td>217.427435</td>\n",
       "    </tr>\n",
       "    <tr>\n",
       "      <th>2019-09-20</th>\n",
       "      <td>213.950404</td>\n",
       "    </tr>\n",
       "    <tr>\n",
       "      <th>2019-09-23</th>\n",
       "      <td>215.460157</td>\n",
       "    </tr>\n",
       "    <tr>\n",
       "      <th>2019-09-24</th>\n",
       "      <td>213.910495</td>\n",
       "    </tr>\n",
       "    <tr>\n",
       "      <th>2019-09-25</th>\n",
       "      <td>217.908219</td>\n",
       "    </tr>\n",
       "    <tr>\n",
       "      <th>2019-09-26</th>\n",
       "      <td>216.580454</td>\n",
       "    </tr>\n",
       "    <tr>\n",
       "      <th>2019-09-27</th>\n",
       "      <td>215.222695</td>\n",
       "    </tr>\n",
       "  </tbody>\n",
       "</table>\n",
       "<p>553 rows × 1 columns</p>\n",
       "</div>"
      ],
      "text/plain": [
       "                     0\n",
       "Date                  \n",
       "2017-07-19  150.991939\n",
       "2017-07-20  150.098419\n",
       "2017-07-21  150.226836\n",
       "2017-07-24  152.075094\n",
       "2017-07-25  152.666893\n",
       "2017-07-26  153.226908\n",
       "2017-07-27  149.636464\n",
       "2017-07-28  149.459777\n",
       "2017-07-31  148.562788\n",
       "2017-08-01  150.140815\n",
       "2017-08-02  156.205983\n",
       "2017-08-03  154.869041\n",
       "2017-08-04  155.962008\n",
       "2017-08-07  158.369985\n",
       "2017-08-08  159.525879\n",
       "2017-08-09  160.490172\n",
       "2017-08-10  154.151577\n",
       "2017-08-11  157.167679\n",
       "2017-08-14  159.334075\n",
       "2017-08-15  161.014691\n",
       "2017-08-16  160.084362\n",
       "2017-08-17  156.944952\n",
       "2017-08-18  156.994409\n",
       "2017-08-21  156.636465\n",
       "2017-08-22  159.407951\n",
       "2017-08-23  159.522926\n",
       "2017-08-24  158.488003\n",
       "2017-08-25  159.326966\n",
       "2017-08-28  160.958063\n",
       "2017-08-29  162.469064\n",
       "...                ...\n",
       "2019-08-16  204.360155\n",
       "2019-08-19  207.669743\n",
       "2019-08-20  207.651750\n",
       "2019-08-21  209.748575\n",
       "2019-08-22  209.438044\n",
       "2019-08-23  199.027407\n",
       "2019-08-26  204.150836\n",
       "2019-08-27  201.164259\n",
       "2019-08-28  203.329847\n",
       "2019-08-29  206.405867\n",
       "2019-08-30  205.837451\n",
       "2019-09-03  203.130984\n",
       "2019-09-04  206.670168\n",
       "2019-09-05  210.603783\n",
       "2019-09-06  210.265803\n",
       "2019-09-09  210.932685\n",
       "2019-09-10  213.841848\n",
       "2019-09-11  220.749786\n",
       "2019-09-12  219.334329\n",
       "2019-09-13  215.250146\n",
       "2019-09-16  216.927799\n",
       "2019-09-17  217.466907\n",
       "2019-09-18  219.448260\n",
       "2019-09-19  217.427435\n",
       "2019-09-20  213.950404\n",
       "2019-09-23  215.460157\n",
       "2019-09-24  213.910495\n",
       "2019-09-25  217.908219\n",
       "2019-09-26  216.580454\n",
       "2019-09-27  215.222695\n",
       "\n",
       "[553 rows x 1 columns]"
      ]
     },
     "execution_count": 54,
     "metadata": {},
     "output_type": "execute_result"
    }
   ],
   "source": [
    "#act_pred=pd.DataFrame()\n",
    "act_pred= pd.DataFrame(testPredict)\n",
    "act_pred.reset_index(drop=True, inplace=True)\n",
    "act_pred.index=test_X.index\n",
    "act_pred['Actual'] = act['Stock Price next day']\n",
    "predictions.rename(columns={0:'Pred'}, inplace=True)"
   ]
  },
  {
   "cell_type": "code",
   "execution_count": null,
   "metadata": {},
   "outputs": [],
   "source": [
    "y.head(2)"
   ]
  },
  {
   "cell_type": "code",
   "execution_count": null,
   "metadata": {},
   "outputs": [],
   "source": [
    "train_X, train_y = X.iloc[:train_size,[4,5,6]].dropna(), y[:train_size].dropna()\n",
    "test_X, test_y = X.iloc[train_size:,[4,5,6]], y[train_size:]"
   ]
  },
  {
   "cell_type": "code",
   "execution_count": null,
   "metadata": {},
   "outputs": [],
   "source": [
    "\n",
    "train_X.shape\n",
    "train_y.shape"
   ]
  },
  {
   "cell_type": "code",
   "execution_count": null,
   "metadata": {},
   "outputs": [],
   "source": [
    "from pmdarima.arima import auto_arima\n",
    "step_wise=auto_arima(train_y, \n",
    "                     exogenous= train_X,\n",
    "                     start_p=1,  start_q=1, \n",
    "                     max_p=7,  max_q=7, \n",
    "                     d=1, max_d=7,\n",
    "                     trace=True, \n",
    "                     error_action='ignore', \n",
    "                     suppress_warnings=True, \n",
    "                     stepwise=True)"
   ]
  },
  {
   "cell_type": "code",
   "execution_count": null,
   "metadata": {},
   "outputs": [],
   "source": [
    "step_wise.summary()"
   ]
  },
  {
   "cell_type": "code",
   "execution_count": null,
   "metadata": {},
   "outputs": [],
   "source": [
    "from statsmodels.tsa.statespace.sarimax import SARIMAX\n",
    "model= SARIMAX(train_y, \n",
    "           exog=train_X,\n",
    "              order=(1,1,1),\n",
    "              enforce_invertibility=False, enforce_stationarity=False)"
   ]
  },
  {
   "cell_type": "code",
   "execution_count": null,
   "metadata": {},
   "outputs": [],
   "source": [
    "results=model.fit()"
   ]
  },
  {
   "cell_type": "code",
   "execution_count": null,
   "metadata": {},
   "outputs": [],
   "source": [
    "predictions= results.predict(start =train_size, end=train_size+829, \n",
    "                             exog=test_X)"
   ]
  },
  {
   "cell_type": "code",
   "execution_count": null,
   "metadata": {},
   "outputs": [],
   "source": [
    "predictions=pd.DataFrame(predictions)\n",
    "predictions.reset_index(drop=True, inplace=True)\n",
    "test=pd.DataFrame(dataset.iloc[train_size:, 0])\n",
    "test.reset_index(drop=True, inplace=True)\n",
    "act= pd.DataFrame(scaler_output.iloc[train_size:, 0])\n",
    "predictions['Date'] = test['Date']\n",
    "predictions.rename(columns={0:'pred', 1:'Date'}, inplace=True)\n",
    "predictions.index= predictions['Date']\n",
    "predictions['Actual'] = act['Stock Price next day']\n"
   ]
  },
  {
   "cell_type": "code",
   "execution_count": null,
   "metadata": {},
   "outputs": [],
   "source": [
    "predictions['Actual'].plot(figsize=(20,8), legend=True, color='blue')\n",
    "#y['2008'].plot(figsize=(20,8), legend=True, color='green')\n",
    "predictions['pred'].plot(legend=True, color='red', figsize=(20,8))"
   ]
  },
  {
   "cell_type": "code",
   "execution_count": null,
   "metadata": {},
   "outputs": [],
   "source": [
    "# invert predictions, scale values back to real index/price range.\n",
    "#scaler_output\n",
    "#trainPredict = sc_out.inverse_transform(predictions['pred'])\n",
    "#testPredict = sc_in.inverse_transform(predictions['Actual'])"
   ]
  },
  {
   "cell_type": "code",
   "execution_count": null,
   "metadata": {},
   "outputs": [],
   "source": [
    "import xgboost as xgb\n",
    "from xgboost import plot_importance, plot_tree"
   ]
  },
  {
   "cell_type": "code",
   "execution_count": null,
   "metadata": {},
   "outputs": [],
   "source": [
    "from sklearn.model_selection import GridSearchCV\n",
    "xgb1 = xgb.XGBRegressor()\n",
    "parameters = {'nthread':[4], #when use hyperthread, xgboost may become slower\n",
    "              'objective':['reg:linear'],\n",
    "              'learning_rate': [.03, 0.05, .07], #so called `eta` value\n",
    "              'max_depth': [5, 6, 7],\n",
    "              'min_child_weight': [4],\n",
    "              'silent': [1],\n",
    "              'subsample': [0.7],\n",
    "              'colsample_bytree': [0.7],\n",
    "              'n_estimators': [100,500, 1000]}\n",
    "\n",
    "xgb_grid = GridSearchCV(xgb1,\n",
    "                        parameters,\n",
    "                        cv = 5,\n",
    "                        n_jobs = 5,\n",
    "                        verbose=True)\n",
    "\n",
    "xgb_grid.fit(train_X,\n",
    "         train_y)\n",
    "\n",
    "print(xgb_grid.best_score_)\n",
    "print(xgb_grid.best_params_)"
   ]
  },
  {
   "cell_type": "code",
   "execution_count": null,
   "metadata": {},
   "outputs": [],
   "source": [
    "reg_1 = xgb.XGBRegressor(n_estimators=1500, learning_rate=0.05, max_depth=5,subsample=0.7)\n",
    "reg_1.fit(train_X, train_y)\n",
    "_ = plot_importance(reg_1, height=0.9)"
   ]
  },
  {
   "cell_type": "code",
   "execution_count": null,
   "metadata": {},
   "outputs": [],
   "source": [
    "pred=reg_1.predict(test_X)"
   ]
  },
  {
   "cell_type": "code",
   "execution_count": null,
   "metadata": {},
   "outputs": [],
   "source": [
    "type(pred)"
   ]
  },
  {
   "cell_type": "code",
   "execution_count": null,
   "metadata": {},
   "outputs": [],
   "source": [
    "predictions=pd.DataFrame(pred)\n",
    "predictions.reset_index(drop=True, inplace=True)\n",
    "test=pd.DataFrame(dataset.iloc[train_size:, 0])\n",
    "test.reset_index(drop=True, inplace=True)\n",
    "act= pd.DataFrame(scaler_output.iloc[train_size:, 0])\n",
    "predictions['Date'] = test['Date']\n",
    "predictions.rename(columns={0:'pred', 1:'Date'}, inplace=True)\n",
    "predictions.index= predictions['Date']\n",
    "predictions['Actual'] = act['Stock Price next day']\n"
   ]
  },
  {
   "cell_type": "code",
   "execution_count": null,
   "metadata": {},
   "outputs": [],
   "source": [
    "predictions['Actual'].plot(figsize=(20,8), legend=True, color='blue')\n",
    "#y['2008'].plot(figsize=(20,8), legend=True, color='green')\n",
    "predictions['pred'].plot(legend=True, color='red', figsize=(20,8))"
   ]
  },
  {
   "cell_type": "code",
   "execution_count": null,
   "metadata": {},
   "outputs": [],
   "source": [
    "from keras.preprocessing.sequence import TimeseriesGenerator\n",
    "from keras import Sequential\n",
    "from keras.layers import Dense, LSTM, BatchNormalization, Dropout,Activation\n",
    "n_input=3\n",
    "n_features =3\n",
    "from sklearn.preprocessing import StandardScaler"
   ]
  },
  {
   "cell_type": "code",
   "execution_count": null,
   "metadata": {},
   "outputs": [],
   "source": [
    "sc_tinput=StandardScaler()\n",
    "sc_toutput=StandardScaler()"
   ]
  },
  {
   "cell_type": "code",
   "execution_count": null,
   "metadata": {},
   "outputs": [],
   "source": [
    "sc_X = sc_tinput.fit_transform(dataset_for_prediction[[ 'Volume', 'Adj Close', 'Mean']])\n",
    "sc_Y = sc_toutput.fit_transform(dataset_for_prediction[['Actual']])"
   ]
  },
  {
   "cell_type": "code",
   "execution_count": null,
   "metadata": {},
   "outputs": [],
   "source": [
    "sc_train_X=sc_X[:train_size]\n",
    "sc_test_X=sc_X[train_size:]\n",
    "sc_train_y=sc_Y[:train_size]\n",
    "sc_test_y=sc_Y[train_size:]"
   ]
  },
  {
   "cell_type": "code",
   "execution_count": null,
   "metadata": {},
   "outputs": [],
   "source": [
    "sc_test_y"
   ]
  },
  {
   "cell_type": "code",
   "execution_count": null,
   "metadata": {},
   "outputs": [],
   "source": [
    "generator_train= TimeseriesGenerator(sc_train_X, sc_train_y, length=n_input, batch_size=32)\n",
    "generator_test= TimeseriesGenerator(sc_test_X, sc_test_y, length=n_input, batch_size=32)\n"
   ]
  },
  {
   "cell_type": "code",
   "execution_count": null,
   "metadata": {},
   "outputs": [],
   "source": [
    "model = Sequential()\n",
    "model.add(LSTM(units=150, return_sequences= True, input_shape=(n_input, n_features)))\n",
    "model.add(Dropout(0.2))\n",
    "model.add(BatchNormalization())    \n",
    "model.add(Activation('relu'))\n",
    "model.add(LSTM(units=150, return_sequences=True))\n",
    "model.add(Dropout(0.2))\n",
    "model.add(LSTM(units=30, return_sequences=True))\n",
    "model.add(LSTM(units=30))\n",
    "model.add(Dense(1))\n",
    "model.summary()"
   ]
  },
  {
   "cell_type": "code",
   "execution_count": null,
   "metadata": {},
   "outputs": [],
   "source": [
    "model.compile(optimizer='adam', loss='mean_squared_error')"
   ]
  },
  {
   "cell_type": "code",
   "execution_count": null,
   "metadata": {},
   "outputs": [],
   "source": [
    "model.fit_generator(generator_train, epochs=200)"
   ]
  },
  {
   "cell_type": "code",
   "execution_count": null,
   "metadata": {},
   "outputs": [],
   "source": [
    "myloss=model.history.history['loss']"
   ]
  },
  {
   "cell_type": "code",
   "execution_count": null,
   "metadata": {},
   "outputs": [],
   "source": [
    "plt.plot(range(len(myloss)), myloss)"
   ]
  },
  {
   "cell_type": "code",
   "execution_count": null,
   "metadata": {},
   "outputs": [],
   "source": [
    "predict_train= model.predict_generator(generator_train)\n",
    "predict_test= model.predict_generator(generator_test)"
   ]
  },
  {
   "cell_type": "code",
   "execution_count": null,
   "metadata": {},
   "outputs": [],
   "source": [
    "sc_test_y"
   ]
  },
  {
   "cell_type": "code",
   "execution_count": null,
   "metadata": {},
   "outputs": [],
   "source": [
    "predictions=pd.DataFrame(predict_test)\n",
    "predictions.reset_index(drop=True, inplace=True)\n",
    "test=pd.DataFrame(dataset.iloc[train_size:, 0])\n",
    "test.reset_index(drop=True, inplace=True)\n",
    "act= pd.DataFrame(sc_test_y)\n",
    "act.rename(columns={0:'Stock Price next day'}, inplace=True)\n",
    "predictions['Actual'] = act['Stock Price next day']\n",
    "predictions['Date'] = test['Date']\n",
    "predictions.rename(columns={0:'pred', 1:'Date'}, inplace=True)\n",
    "predictions.index= predictions['Date']\n",
    "\n"
   ]
  },
  {
   "cell_type": "code",
   "execution_count": null,
   "metadata": {},
   "outputs": [],
   "source": [
    "predictions"
   ]
  },
  {
   "cell_type": "code",
   "execution_count": null,
   "metadata": {},
   "outputs": [],
   "source": [
    "predictions['Actual'].plot(figsize=(20,8), legend=True, color='blue')\n",
    "#y['2008'].plot(figsize=(20,8), legend=True, color='green')\n",
    "predictions['pred'].plot(legend=True, color='red', figsize=(20,8))"
   ]
  },
  {
   "cell_type": "code",
   "execution_count": null,
   "metadata": {},
   "outputs": [],
   "source": [
    "train_X"
   ]
  },
  {
   "cell_type": "code",
   "execution_count": null,
   "metadata": {},
   "outputs": [],
   "source": [
    "from statsmodels.tsa.statespace.sarimax import SARIMAX\n",
    "from statsmodels.tsa.arima_model import ARIMA\n",
    "model= ARIMA(train_y, \n",
    "           exog=train_X,\n",
    "              order=(0,1,1))"
   ]
  },
  {
   "cell_type": "code",
   "execution_count": null,
   "metadata": {},
   "outputs": [],
   "source": [
    "results= model.fit()"
   ]
  },
  {
   "cell_type": "code",
   "execution_count": null,
   "metadata": {},
   "outputs": [],
   "source": [
    "predictions= results.predict(start =train_size, end=train_size+829, \n",
    "                             exog=test_X)"
   ]
  },
  {
   "cell_type": "code",
   "execution_count": null,
   "metadata": {},
   "outputs": [],
   "source": [
    "predictions=pd.DataFrame(predictions)\n",
    "predictions.reset_index(drop=True, inplace=True)\n",
    "test=pd.DataFrame(dataset.iloc[train_size:, 0])\n",
    "test.reset_index(drop=True, inplace=True)\n",
    "act= pd.DataFrame(scaler_output.iloc[train_size:, 0])\n",
    "predictions['Date'] = test['Date']\n",
    "predictions.rename(columns={0:'pred', 1:'Date'}, inplace=True)\n",
    "predictions.index= predictions['Date']\n",
    "predictions['Actual'] = act['Stock Price next day']\n"
   ]
  },
  {
   "cell_type": "code",
   "execution_count": null,
   "metadata": {},
   "outputs": [],
   "source": [
    "predictions['Actual'].plot(figsize=(20,8), legend=True, color='blue')\n",
    "#y['2008'].plot(figsize=(20,8), legend=True, color='green')\n",
    "predictions['pred'].plot(legend=True, color='red', figsize=(20,8))"
   ]
  },
  {
   "cell_type": "code",
   "execution_count": null,
   "metadata": {},
   "outputs": [],
   "source": []
  },
  {
   "cell_type": "code",
   "execution_count": null,
   "metadata": {},
   "outputs": [],
   "source": []
  }
 ],
 "metadata": {
  "kernelspec": {
   "display_name": "Python 3",
   "language": "python",
   "name": "python3"
  },
  "language_info": {
   "codemirror_mode": {
    "name": "ipython",
    "version": 3
   },
   "file_extension": ".py",
   "mimetype": "text/x-python",
   "name": "python",
   "nbconvert_exporter": "python",
   "pygments_lexer": "ipython3",
   "version": "3.7.3"
  }
 },
 "nbformat": 4,
 "nbformat_minor": 2
}
